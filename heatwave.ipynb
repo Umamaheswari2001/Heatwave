{
  "nbformat": 4,
  "nbformat_minor": 0,
  "metadata": {
    "colab": {
      "provenance": [],
      "include_colab_link": true
    },
    "kernelspec": {
      "name": "python3",
      "display_name": "Python 3"
    },
    "language_info": {
      "name": "python"
    },
    "accelerator": "GPU",
    "gpuClass": "standard"
  },
  "cells": [
    {
      "cell_type": "markdown",
      "metadata": {
        "id": "view-in-github",
        "colab_type": "text"
      },
      "source": [
        "<a href=\"https://colab.research.google.com/github/Umamaheswari2001/Heatwave/blob/master/heatwave.ipynb\" target=\"_parent\"><img src=\"https://colab.research.google.com/assets/colab-badge.svg\" alt=\"Open In Colab\"/></a>"
      ]
    },
    {
      "cell_type": "code",
      "execution_count": null,
      "metadata": {
        "id": "H9eSXyKh1a50"
      },
      "outputs": [],
      "source": [
        "import numpy as np\n",
        "import pandas as pd\n",
        "import matplotlib.pyplot as plt\n",
        "import seaborn as sns\n",
        "from sklearn.preprocessing import MinMaxScaler\n",
        "from tensorflow import keras\n",
        "from keras.models import Sequential\n",
        "from keras.layers import LSTM, Dense, Dropout, Bidirectional, Conv1D\n",
        "from keras.optimizers import Adam\n",
        "from keras.callbacks import EarlyStopping\n",
        "from sklearn.metrics import mean_squared_error"
      ]
    },
    {
      "cell_type": "code",
      "source": [
        "# Load the dataset\n",
        "url = 'https://drive.google.com/file/d/1Hr4MmNyDzuSaVPTi8d7zM5wDKRO5cz0s/view?usp=sharing'\n",
        "file_id = url.split('/')[-2]\n",
        "read_url = 'https://drive.google.com/uc?id=' + file_id\n",
        "df = pd.read_csv(read_url)\n",
        "df.info()\n",
        "df"
      ],
      "metadata": {
        "colab": {
          "base_uri": "https://localhost:8080/",
          "height": 614
        },
        "id": "NX30ALHwikus",
        "outputId": "c22df3bd-cc33-47be-cfbb-101c2a89c34f"
      },
      "execution_count": null,
      "outputs": [
        {
          "output_type": "stream",
          "name": "stdout",
          "text": [
            "<class 'pandas.core.frame.DataFrame'>\n",
            "RangeIndex: 14974 entries, 0 to 14973\n",
            "Data columns (total 4 columns):\n",
            " #   Column             Non-Null Count  Dtype  \n",
            "---  ------             --------------  -----  \n",
            " 0   temperature        14974 non-null  float64\n",
            " 1   relative humidity  14974 non-null  float64\n",
            " 2   wind speed         14974 non-null  float64\n",
            " 3   surface pressure   14974 non-null  float64\n",
            "dtypes: float64(4)\n",
            "memory usage: 468.1 KB\n"
          ]
        },
        {
          "output_type": "execute_result",
          "data": {
            "text/plain": [
              "       temperature  relative humidity  wind speed  surface pressure\n",
              "0        26.350000             100.00        9.58            101.99\n",
              "1        26.440001             100.00       13.72            101.89\n",
              "2        27.219999             100.00        9.58            101.67\n",
              "3        28.290001              99.50        9.34            100.96\n",
              "4        28.059999             100.00        6.50            101.50\n",
              "...            ...                ...         ...               ...\n",
              "14969    27.270000              92.56        6.98            101.68\n",
              "14970    25.550000              95.44        5.11            101.43\n",
              "14971    20.240000              87.06        6.42            101.47\n",
              "14972    20.770000              93.19        6.66            101.17\n",
              "14973    22.070000              93.62        8.09            101.63\n",
              "\n",
              "[14974 rows x 4 columns]"
            ],
            "text/html": [
              "\n",
              "  <div id=\"df-e0852417-8de3-4b3b-9ab0-05efd3abee90\">\n",
              "    <div class=\"colab-df-container\">\n",
              "      <div>\n",
              "<style scoped>\n",
              "    .dataframe tbody tr th:only-of-type {\n",
              "        vertical-align: middle;\n",
              "    }\n",
              "\n",
              "    .dataframe tbody tr th {\n",
              "        vertical-align: top;\n",
              "    }\n",
              "\n",
              "    .dataframe thead th {\n",
              "        text-align: right;\n",
              "    }\n",
              "</style>\n",
              "<table border=\"1\" class=\"dataframe\">\n",
              "  <thead>\n",
              "    <tr style=\"text-align: right;\">\n",
              "      <th></th>\n",
              "      <th>temperature</th>\n",
              "      <th>relative humidity</th>\n",
              "      <th>wind speed</th>\n",
              "      <th>surface pressure</th>\n",
              "    </tr>\n",
              "  </thead>\n",
              "  <tbody>\n",
              "    <tr>\n",
              "      <th>0</th>\n",
              "      <td>26.350000</td>\n",
              "      <td>100.00</td>\n",
              "      <td>9.58</td>\n",
              "      <td>101.99</td>\n",
              "    </tr>\n",
              "    <tr>\n",
              "      <th>1</th>\n",
              "      <td>26.440001</td>\n",
              "      <td>100.00</td>\n",
              "      <td>13.72</td>\n",
              "      <td>101.89</td>\n",
              "    </tr>\n",
              "    <tr>\n",
              "      <th>2</th>\n",
              "      <td>27.219999</td>\n",
              "      <td>100.00</td>\n",
              "      <td>9.58</td>\n",
              "      <td>101.67</td>\n",
              "    </tr>\n",
              "    <tr>\n",
              "      <th>3</th>\n",
              "      <td>28.290001</td>\n",
              "      <td>99.50</td>\n",
              "      <td>9.34</td>\n",
              "      <td>100.96</td>\n",
              "    </tr>\n",
              "    <tr>\n",
              "      <th>4</th>\n",
              "      <td>28.059999</td>\n",
              "      <td>100.00</td>\n",
              "      <td>6.50</td>\n",
              "      <td>101.50</td>\n",
              "    </tr>\n",
              "    <tr>\n",
              "      <th>...</th>\n",
              "      <td>...</td>\n",
              "      <td>...</td>\n",
              "      <td>...</td>\n",
              "      <td>...</td>\n",
              "    </tr>\n",
              "    <tr>\n",
              "      <th>14969</th>\n",
              "      <td>27.270000</td>\n",
              "      <td>92.56</td>\n",
              "      <td>6.98</td>\n",
              "      <td>101.68</td>\n",
              "    </tr>\n",
              "    <tr>\n",
              "      <th>14970</th>\n",
              "      <td>25.550000</td>\n",
              "      <td>95.44</td>\n",
              "      <td>5.11</td>\n",
              "      <td>101.43</td>\n",
              "    </tr>\n",
              "    <tr>\n",
              "      <th>14971</th>\n",
              "      <td>20.240000</td>\n",
              "      <td>87.06</td>\n",
              "      <td>6.42</td>\n",
              "      <td>101.47</td>\n",
              "    </tr>\n",
              "    <tr>\n",
              "      <th>14972</th>\n",
              "      <td>20.770000</td>\n",
              "      <td>93.19</td>\n",
              "      <td>6.66</td>\n",
              "      <td>101.17</td>\n",
              "    </tr>\n",
              "    <tr>\n",
              "      <th>14973</th>\n",
              "      <td>22.070000</td>\n",
              "      <td>93.62</td>\n",
              "      <td>8.09</td>\n",
              "      <td>101.63</td>\n",
              "    </tr>\n",
              "  </tbody>\n",
              "</table>\n",
              "<p>14974 rows × 4 columns</p>\n",
              "</div>\n",
              "      <button class=\"colab-df-convert\" onclick=\"convertToInteractive('df-e0852417-8de3-4b3b-9ab0-05efd3abee90')\"\n",
              "              title=\"Convert this dataframe to an interactive table.\"\n",
              "              style=\"display:none;\">\n",
              "        \n",
              "  <svg xmlns=\"http://www.w3.org/2000/svg\" height=\"24px\"viewBox=\"0 0 24 24\"\n",
              "       width=\"24px\">\n",
              "    <path d=\"M0 0h24v24H0V0z\" fill=\"none\"/>\n",
              "    <path d=\"M18.56 5.44l.94 2.06.94-2.06 2.06-.94-2.06-.94-.94-2.06-.94 2.06-2.06.94zm-11 1L8.5 8.5l.94-2.06 2.06-.94-2.06-.94L8.5 2.5l-.94 2.06-2.06.94zm10 10l.94 2.06.94-2.06 2.06-.94-2.06-.94-.94-2.06-.94 2.06-2.06.94z\"/><path d=\"M17.41 7.96l-1.37-1.37c-.4-.4-.92-.59-1.43-.59-.52 0-1.04.2-1.43.59L10.3 9.45l-7.72 7.72c-.78.78-.78 2.05 0 2.83L4 21.41c.39.39.9.59 1.41.59.51 0 1.02-.2 1.41-.59l7.78-7.78 2.81-2.81c.8-.78.8-2.07 0-2.86zM5.41 20L4 18.59l7.72-7.72 1.47 1.35L5.41 20z\"/>\n",
              "  </svg>\n",
              "      </button>\n",
              "      \n",
              "  <style>\n",
              "    .colab-df-container {\n",
              "      display:flex;\n",
              "      flex-wrap:wrap;\n",
              "      gap: 12px;\n",
              "    }\n",
              "\n",
              "    .colab-df-convert {\n",
              "      background-color: #E8F0FE;\n",
              "      border: none;\n",
              "      border-radius: 50%;\n",
              "      cursor: pointer;\n",
              "      display: none;\n",
              "      fill: #1967D2;\n",
              "      height: 32px;\n",
              "      padding: 0 0 0 0;\n",
              "      width: 32px;\n",
              "    }\n",
              "\n",
              "    .colab-df-convert:hover {\n",
              "      background-color: #E2EBFA;\n",
              "      box-shadow: 0px 1px 2px rgba(60, 64, 67, 0.3), 0px 1px 3px 1px rgba(60, 64, 67, 0.15);\n",
              "      fill: #174EA6;\n",
              "    }\n",
              "\n",
              "    [theme=dark] .colab-df-convert {\n",
              "      background-color: #3B4455;\n",
              "      fill: #D2E3FC;\n",
              "    }\n",
              "\n",
              "    [theme=dark] .colab-df-convert:hover {\n",
              "      background-color: #434B5C;\n",
              "      box-shadow: 0px 1px 3px 1px rgba(0, 0, 0, 0.15);\n",
              "      filter: drop-shadow(0px 1px 2px rgba(0, 0, 0, 0.3));\n",
              "      fill: #FFFFFF;\n",
              "    }\n",
              "  </style>\n",
              "\n",
              "      <script>\n",
              "        const buttonEl =\n",
              "          document.querySelector('#df-e0852417-8de3-4b3b-9ab0-05efd3abee90 button.colab-df-convert');\n",
              "        buttonEl.style.display =\n",
              "          google.colab.kernel.accessAllowed ? 'block' : 'none';\n",
              "\n",
              "        async function convertToInteractive(key) {\n",
              "          const element = document.querySelector('#df-e0852417-8de3-4b3b-9ab0-05efd3abee90');\n",
              "          const dataTable =\n",
              "            await google.colab.kernel.invokeFunction('convertToInteractive',\n",
              "                                                     [key], {});\n",
              "          if (!dataTable) return;\n",
              "\n",
              "          const docLinkHtml = 'Like what you see? Visit the ' +\n",
              "            '<a target=\"_blank\" href=https://colab.research.google.com/notebooks/data_table.ipynb>data table notebook</a>'\n",
              "            + ' to learn more about interactive tables.';\n",
              "          element.innerHTML = '';\n",
              "          dataTable['output_type'] = 'display_data';\n",
              "          await google.colab.output.renderOutput(dataTable, element);\n",
              "          const docLink = document.createElement('div');\n",
              "          docLink.innerHTML = docLinkHtml;\n",
              "          element.appendChild(docLink);\n",
              "        }\n",
              "      </script>\n",
              "    </div>\n",
              "  </div>\n",
              "  "
            ]
          },
          "metadata": {},
          "execution_count": 2
        }
      ]
    },
    {
      "cell_type": "code",
      "source": [
        "# Check for missing values\n",
        "print(df.isnull().sum())\n",
        "\n",
        "# Drop the missing values\n",
        "df.dropna(inplace=True)\n"
      ],
      "metadata": {
        "colab": {
          "base_uri": "https://localhost:8080/"
        },
        "id": "7cal_tSsj3Q5",
        "outputId": "e3a27fae-afb6-4156-8737-edbc7fcc6297"
      },
      "execution_count": null,
      "outputs": [
        {
          "output_type": "stream",
          "name": "stdout",
          "text": [
            "temperature          0\n",
            "relative humidity    0\n",
            "wind speed           0\n",
            "surface pressure     0\n",
            "dtype: int64\n"
          ]
        }
      ]
    },
    {
      "cell_type": "code",
      "source": [
        "# Scale the data\n",
        "scaler = MinMaxScaler()\n",
        "temp = df['temperature'].values.reshape(-1,1)\n",
        "temp_scaled = scaler.fit_transform(temp)"
      ],
      "metadata": {
        "id": "IQuDeWctkOHj"
      },
      "execution_count": null,
      "outputs": []
    },
    {
      "cell_type": "code",
      "source": [
        "train_split= 0.8\n",
        "split_idx = int(len(df) * 0.8)\n",
        "training_set = df.iloc[:,0:4].values\n",
        "training_set = df[:split_idx].values\n",
        "test_set = df[split_idx:].values"
      ],
      "metadata": {
        "id": "JJA8PXfPnpJZ"
      },
      "execution_count": null,
      "outputs": []
    },
    {
      "cell_type": "code",
      "source": [
        "# 5-day prediction using 30 days data\n",
        "x_train = []\n",
        "y_train = []\n",
        "n_future = 5 #Next 5 days rainfall forecast\n",
        "n_past = 30 #Past 30 days\n",
        "for i in range(0, len(training_set) - n_past - n_future + 1):\n",
        "    x_train.append(training_set[i : i + n_past, 0])\n",
        "    y_train.append(training_set[i + n_past : i + n_past + n_future, 0])\n",
        "x_train, y_train = np.array(x_train), np.array(y_train)\n",
        "\n",
        "x_test = []\n",
        "y_test = []\n",
        "for i in range(n_past, len(test_set) - n_future + 1):\n",
        "    x_test.append(test_set[i - n_past:i, 0])\n",
        "    y_test.append(test_set[i:i + n_future, 0])\n",
        "x_test, y_test = np.array(x_test), np.array(y_test)\n"
      ],
      "metadata": {
        "id": "Slc29BApkRN7"
      },
      "execution_count": null,
      "outputs": []
    },
    {
      "cell_type": "code",
      "source": [
        "# Reshape the input data to LSTM format\n",
        "x_train = np.reshape(x_train, (x_train.shape[0], x_train.shape[1], 1))\n",
        "x_test = np.reshape(x_test, (x_test.shape[0], x_test.shape[1], 1))"
      ],
      "metadata": {
        "id": "Ma_OyeXskWdX"
      },
      "execution_count": null,
      "outputs": []
    },
    {
      "cell_type": "code",
      "source": [
        "# Add an additional dimension to the input data for Conv1D layer\n",
        "x_train = np.expand_dims(x_train, axis=2)\n",
        "x_test = np.expand_dims(x_test, axis=2)"
      ],
      "metadata": {
        "id": "OHxi4_0q04QZ"
      },
      "execution_count": null,
      "outputs": []
    },
    {
      "cell_type": "code",
      "source": [
        "# Define the model\n",
        "model = Sequential()\n",
        "model.add(Conv1D(filters=256, kernel_size=2, activation='relu',input_shape = (x_train.shape[1], 1)))\n",
        "model.add(Conv1D(filters=128, kernel_size=2, activation='relu'))\n",
        "model.add(Dropout(0.2))\n",
        "model.add(Bidirectional(LSTM(units=30, return_sequences=True)))\n",
        "model.add(LSTM(units= 30, return_sequences=True))\n",
        "model.add(LSTM(units= 30, return_sequences=True))\n",
        "model.add(LSTM(units= 30))\n",
        "model.add(Dropout(0.2))\n",
        "model.add(Dense( units= 5 ,activation='relu'))\n",
        "model.compile(loss='mean_squared_error',optimizer='adam', metrics=['accuracy'])\n",
        "\n",
        "# Train the model\n",
        "early_stop = EarlyStopping(monitor='val_loss', patience=5, verbose=1)\n",
        "history = model.fit(x_train, y_train, epochs=500, batch_size=32, validation_data=(x_test, y_test), callbacks=[early_stop])"
      ],
      "metadata": {
        "colab": {
          "base_uri": "https://localhost:8080/"
        },
        "id": "66aFMYWoi7F4",
        "outputId": "495c25a6-0612-4e94-9dfd-7ba3dc8be175"
      },
      "execution_count": null,
      "outputs": [
        {
          "output_type": "stream",
          "name": "stdout",
          "text": [
            "Epoch 1/500\n",
            "374/374 [==============================] - 32s 21ms/step - loss: 617.6926 - accuracy: 0.2608 - val_loss: 358.3290 - val_accuracy: 0.2955\n",
            "Epoch 2/500\n",
            "374/374 [==============================] - 6s 15ms/step - loss: 230.7247 - accuracy: 0.2527 - val_loss: 127.1040 - val_accuracy: 0.2955\n",
            "Epoch 3/500\n",
            "374/374 [==============================] - 6s 17ms/step - loss: 86.5150 - accuracy: 0.2440 - val_loss: 46.8417 - val_accuracy: 0.2955\n",
            "Epoch 4/500\n",
            "374/374 [==============================] - 6s 15ms/step - loss: 42.5192 - accuracy: 0.2233 - val_loss: 26.5031 - val_accuracy: 0.2955\n",
            "Epoch 5/500\n",
            "374/374 [==============================] - 6s 16ms/step - loss: 33.8900 - accuracy: 0.2117 - val_loss: 22.9406 - val_accuracy: 0.2955\n",
            "Epoch 6/500\n",
            "374/374 [==============================] - 6s 15ms/step - loss: 32.4144 - accuracy: 0.2095 - val_loss: 22.5321 - val_accuracy: 0.2955\n",
            "Epoch 7/500\n",
            "374/374 [==============================] - 7s 19ms/step - loss: 32.0427 - accuracy: 0.1957 - val_loss: 22.4742 - val_accuracy: 0.1442\n",
            "Epoch 8/500\n",
            "374/374 [==============================] - 6s 15ms/step - loss: 32.8110 - accuracy: 0.1974 - val_loss: 22.4349 - val_accuracy: 0.2955\n",
            "Epoch 9/500\n",
            "374/374 [==============================] - 6s 17ms/step - loss: 32.2077 - accuracy: 0.1976 - val_loss: 22.4535 - val_accuracy: 0.1527\n",
            "Epoch 10/500\n",
            "374/374 [==============================] - 6s 15ms/step - loss: 32.3959 - accuracy: 0.1973 - val_loss: 22.4802 - val_accuracy: 0.2955\n",
            "Epoch 11/500\n",
            "374/374 [==============================] - 6s 17ms/step - loss: 32.4277 - accuracy: 0.2077 - val_loss: 22.4538 - val_accuracy: 0.2580\n",
            "Epoch 12/500\n",
            "374/374 [==============================] - 6s 15ms/step - loss: 32.1867 - accuracy: 0.1985 - val_loss: 22.5323 - val_accuracy: 0.2580\n",
            "Epoch 13/500\n",
            "374/374 [==============================] - 6s 16ms/step - loss: 32.1132 - accuracy: 0.1977 - val_loss: 22.4492 - val_accuracy: 0.1496\n",
            "Epoch 13: early stopping\n"
          ]
        }
      ]
    },
    {
      "cell_type": "code",
      "source": [
        "x_test = test_set[: n_past, 0]\n",
        "y_test = test_set[n_past : n_past + n_future, 0]\n",
        "x_test, y_test = np.array(x_test), np.array(y_test)\n",
        "x_test = np.reshape(x_test, (1, x_test.shape[0], 1))\n",
        "predicted_temperature = model.predict(x_test)\n",
        "print('Predicted temperature {}'.format(predicted_temperature))\n",
        "print('Real temperature {}'.format(y_test))\n",
        "\n",
        "# Print the heatwave array\n",
        "heatwaves = []\n",
        "for i in range(len(predicted_temperature[0])):\n",
        "    if predicted_temperature[0][i] >= y_test[i]:\n",
        "        heatwaves.append(1)\n",
        "    else:\n",
        "        heatwaves.append(0)\n",
        "\n",
        "print(\"Heatwave \" + str(heatwaves))\n",
        "\n",
        "total_accuracy = 0\n",
        "total_weight = sum(range(1, n_future+1))  # weight for each day\n",
        "for i in range(n_future):\n",
        "    accuracy = 100 - abs((predicted_temperature[0][i] - y_test[i]) / y_test[i]) * 100\n",
        "    weight = n_future - i  # weight for this day\n",
        "    total_accuracy += accuracy * weight\n",
        "    print(\"Day {}: {:.2f}%\".format(i+1, accuracy))\n",
        "\n",
        "overall_accuracy = total_accuracy / total_weight\n",
        "print(\"Overall Accuracy: {:.2f}%\".format(overall_accuracy))\n",
        "\n"
      ],
      "metadata": {
        "colab": {
          "base_uri": "https://localhost:8080/"
        },
        "id": "IT90x2qi-cbK",
        "outputId": "5aa6ae90-ef31-45c6-d952-87b67c0e2aac"
      },
      "execution_count": null,
      "outputs": [
        {
          "output_type": "stream",
          "name": "stdout",
          "text": [
            "1/1 [==============================] - 2s 2s/step\n",
            "Predicted temperature [[32.401676 32.40887  32.40386  32.40294  32.395435]]\n",
            "Real temperature [28.82999992 28.37999916 28.38999939 28.13999939 30.35000038]\n",
            "Heatwave [1, 1, 1, 1, 1]\n",
            "Day 1: 87.61%\n",
            "Day 2: 85.80%\n",
            "Day 3: 85.86%\n",
            "Day 4: 84.85%\n",
            "Day 5: 93.26%\n",
            "Overall Accuracy: 86.79%\n"
          ]
        }
      ]
    }
  ]
}